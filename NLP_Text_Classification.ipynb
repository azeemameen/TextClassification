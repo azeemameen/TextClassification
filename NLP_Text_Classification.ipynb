{
  "nbformat": 4,
  "nbformat_minor": 0,
  "metadata": {
    "colab": {
      "name": "NLP Text Classification",
      "provenance": []
    },
    "kernelspec": {
      "name": "python3",
      "display_name": "Python 3"
    },
    "language_info": {
      "name": "python"
    }
  },
  "cells": [
    {
      "cell_type": "code",
      "metadata": {
        "id": "Qna7z0w2mUrJ"
      },
      "source": [
        "import pandas as pd\n",
        "import nltk\n",
        "import numpy as np\n",
        "\n",
        "import tensorflow as tf"
      ],
      "execution_count": 1,
      "outputs": []
    },
    {
      "cell_type": "code",
      "metadata": {
        "colab": {
          "resources": {
            "http://localhost:8080/nbextensions/google.colab/files.js": {
              "data": "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",
              "ok": true,
              "headers": [
                [
                  "content-type",
                  "application/javascript"
                ]
              ],
              "status": 200,
              "status_text": "OK"
            }
          },
          "base_uri": "https://localhost:8080/",
          "height": 71
        },
        "id": "ZAAJA30Xnmip",
        "outputId": "737f6975-0f5e-47ee-a7c5-2a8c08c64437"
      },
      "source": [
        "from google.colab import files\n",
        "uploaded = files.upload()"
      ],
      "execution_count": 16,
      "outputs": [
        {
          "output_type": "display_data",
          "data": {
            "text/html": [
              "\n",
              "     <input type=\"file\" id=\"files-a2bd4141-839e-47f4-ab49-6d2eb19147ee\" name=\"files[]\" multiple disabled\n",
              "        style=\"border:none\" />\n",
              "     <output id=\"result-a2bd4141-839e-47f4-ab49-6d2eb19147ee\">\n",
              "      Upload widget is only available when the cell has been executed in the\n",
              "      current browser session. Please rerun this cell to enable.\n",
              "      </output>\n",
              "      <script src=\"/nbextensions/google.colab/files.js\"></script> "
            ],
            "text/plain": [
              "<IPython.core.display.HTML object>"
            ]
          },
          "metadata": {}
        },
        {
          "output_type": "stream",
          "text": [
            "Saving 5000TravelQuestionsDataset.xlsx to 5000TravelQuestionsDataset (1).xlsx\n"
          ],
          "name": "stdout"
        }
      ]
    },
    {
      "cell_type": "code",
      "metadata": {
        "id": "7BMZXJ0rrZF8"
      },
      "source": [
        "xlsx_file = io.BytesIO(uploaded.get('5000TravelQuestionsDataset.xlsx'))"
      ],
      "execution_count": 18,
      "outputs": []
    },
    {
      "cell_type": "code",
      "metadata": {
        "id": "vProvjLZrZSr"
      },
      "source": [
        "col_names = ['questions', 'Label', 'Type']\n",
        "df = pd.read_excel(xlsx_file, 'Questions',header=None,names=col_names)"
      ],
      "execution_count": 26,
      "outputs": []
    },
    {
      "cell_type": "code",
      "metadata": {
        "colab": {
          "base_uri": "https://localhost:8080/"
        },
        "id": "EbaXnQwmrZY2",
        "outputId": "3d46733a-514c-43aa-c1ff-3af862d985d9"
      },
      "source": [
        "\n",
        "print(df.info())"
      ],
      "execution_count": 27,
      "outputs": [
        {
          "output_type": "stream",
          "text": [
            "<class 'pandas.core.frame.DataFrame'>\n",
            "RangeIndex: 5000 entries, 0 to 4999\n",
            "Data columns (total 3 columns):\n",
            " #   Column     Non-Null Count  Dtype \n",
            "---  ------     --------------  ----- \n",
            " 0   questions  5000 non-null   object\n",
            " 1   Label      5000 non-null   object\n",
            " 2   Type       5000 non-null   object\n",
            "dtypes: object(3)\n",
            "memory usage: 117.3+ KB\n",
            "None\n"
          ],
          "name": "stdout"
        }
      ]
    },
    {
      "cell_type": "code",
      "metadata": {
        "id": "1kvt3OMqr770"
      },
      "source": [
        ""
      ],
      "execution_count": null,
      "outputs": []
    },
    {
      "cell_type": "markdown",
      "metadata": {
        "id": "KOCbeat5skoI"
      },
      "source": [
        "### Pre processing the dataset\n"
      ]
    },
    {
      "cell_type": "code",
      "metadata": {
        "id": "F4bxZAAXsqDf"
      },
      "source": [
        "import re\n",
        "\n",
        "def clean_text(text):\n",
        "    \"\"\"\n",
        "    Applies some pre-processing on the given text.\n",
        "\n",
        "    Steps :\n",
        "    - Removing HTML tags\n",
        "    - Removing punctuation\n",
        "    - Lowering text\n",
        "    \"\"\"\n",
        "    \n",
        "    # remove HTML tags\n",
        "    text = re.sub(r'<.*?>', '', text)\n",
        "    \n",
        "    # remove the characters [\\], ['] and [\"]\n",
        "    text = re.sub(r\"\\\\\", \"\", text)    \n",
        "    text = re.sub(r\"\\'\", \"\", text)    \n",
        "    text = re.sub(r\"\\\"\", \"\", text)    \n",
        "    \n",
        "    # convert text to lowercase\n",
        "    text = text.strip().lower()\n",
        "    \n",
        "    # replace punctuation characters with spaces\n",
        "    filters='!\"\\'#$%&()*+,-./:;<=>?@[\\\\]^_`{|}~\\t\\n'\n",
        "    translate_dict = dict((c, \" \") for c in filters)\n",
        "    translate_map = str.maketrans(translate_dict)\n",
        "    text = text.translate(translate_map)\n",
        "\n",
        "    return text"
      ],
      "execution_count": 28,
      "outputs": []
    },
    {
      "cell_type": "code",
      "metadata": {
        "id": "UjKZiGAjs9HN"
      },
      "source": [
        "df['clean_questions'] = [clean_text(question) for question in df['questions']]"
      ],
      "execution_count": 29,
      "outputs": []
    },
    {
      "cell_type": "code",
      "metadata": {
        "colab": {
          "base_uri": "https://localhost:8080/"
        },
        "id": "zUc9sujhtEXP",
        "outputId": "a295a22e-09ea-4a69-d230-7bbd8d42a0d9"
      },
      "source": [
        "print(df['clean_questions'][1])\n",
        "print(df['questions'][1])\n"
      ],
      "execution_count": 33,
      "outputs": [
        {
          "output_type": "stream",
          "text": [
            "what are the companies which organize shark feeding events for scuba divers \n",
            "What are the companies which organize shark feeding events for scuba divers?\n"
          ],
          "name": "stdout"
        }
      ]
    },
    {
      "cell_type": "code",
      "metadata": {
        "id": "b7xhudNwtK1P"
      },
      "source": [
        "import string\n",
        "\n",
        "def remove_punctuation(x):\n",
        "    return \"\".join([char for char in x if char not in string.punctuation])\n",
        "\n",
        "# dataset['questions'] = [remove_punctuation(question) for question in dataset['questions']]\n",
        "# dataset['questions'][test_id]"
      ],
      "execution_count": 34,
      "outputs": []
    },
    {
      "cell_type": "code",
      "metadata": {
        "colab": {
          "base_uri": "https://localhost:8080/"
        },
        "id": "wLvMnE12thRk",
        "outputId": "780fc8d4-b0a7-4b72-c4dc-91fc3658cdef"
      },
      "source": [
        "\n",
        "\n",
        "import nltk\n",
        "nltk.download('stopwords')\n",
        "nltk.download('punkt')\n",
        "nltk.download('wordnet')\n",
        "nltk.download('averaged_perceptron_tagger')\n",
        "nltk.download('maxent_ne_chunker')\n",
        "nltk.download('words')\n",
        "\n",
        "stop_words = stopwords.words('english')\n",
        "from nltk import word_tokenize\n",
        "\n",
        "def remove_stopwords(x):\n",
        "    words = word_tokenize(x)\n",
        "    return \" \".join([word for pos, word in enumerate(words) if (pos < 1) or (word not in stop_words)])"
      ],
      "execution_count": 75,
      "outputs": [
        {
          "output_type": "stream",
          "text": [
            "[nltk_data] Downloading package stopwords to /root/nltk_data...\n",
            "[nltk_data]   Package stopwords is already up-to-date!\n",
            "[nltk_data] Downloading package punkt to /root/nltk_data...\n",
            "[nltk_data]   Package punkt is already up-to-date!\n",
            "[nltk_data] Downloading package wordnet to /root/nltk_data...\n",
            "[nltk_data]   Package wordnet is already up-to-date!\n",
            "[nltk_data] Downloading package averaged_perceptron_tagger to\n",
            "[nltk_data]     /root/nltk_data...\n",
            "[nltk_data]   Package averaged_perceptron_tagger is already up-to-\n",
            "[nltk_data]       date!\n",
            "[nltk_data] Downloading package maxent_ne_chunker to\n",
            "[nltk_data]     /root/nltk_data...\n",
            "[nltk_data]   Package maxent_ne_chunker is already up-to-date!\n",
            "[nltk_data] Downloading package words to /root/nltk_data...\n",
            "[nltk_data]   Unzipping corpora/words.zip.\n"
          ],
          "name": "stdout"
        }
      ]
    },
    {
      "cell_type": "code",
      "metadata": {
        "colab": {
          "base_uri": "https://localhost:8080/"
        },
        "id": "FmfdolewtuhG",
        "outputId": "eb847d46-6028-485c-8b11-0501bbe9865d"
      },
      "source": [
        "df['questions_stop'] = [remove_punctuation(remove_stopwords(question)) for question in df['questions']]\n",
        "print(df['questions'][test_id])\n",
        "print(df['questions_stop'][test_id])\n",
        "# print(stop_words)"
      ],
      "execution_count": 41,
      "outputs": [
        {
          "output_type": "stream",
          "text": [
            "What are the companies which organize shark feeding events for scuba divers?\n",
            "What companies organize shark feeding events scuba divers \n"
          ],
          "name": "stdout"
        }
      ]
    },
    {
      "cell_type": "code",
      "metadata": {
        "id": "fu5AoHs1uWhp"
      },
      "source": [
        ""
      ],
      "execution_count": null,
      "outputs": []
    },
    {
      "cell_type": "markdown",
      "metadata": {
        "id": "3YaanPUlunH6"
      },
      "source": [
        "### **Creating Features**"
      ]
    },
    {
      "cell_type": "code",
      "metadata": {
        "id": "7H8J-3KFu0g4"
      },
      "source": [
        "#Bag of Words using Lemmatization"
      ],
      "execution_count": 42,
      "outputs": []
    },
    {
      "cell_type": "code",
      "metadata": {
        "colab": {
          "base_uri": "https://localhost:8080/",
          "height": 35
        },
        "id": "Vzxw0Qy1u9Rk",
        "outputId": "e62ee665-b21f-4a86-c9a2-53adf1dfb3bf"
      },
      "source": [
        "\n",
        "from nltk.stem import WordNetLemmatizer \n",
        "lemmatizer = WordNetLemmatizer()\n",
        "def lemmatize(x):\n",
        "    filtered_words = nltk.word_tokenize(x)\n",
        "    lemmatized = [lemmatizer.lemmatize(word) for word in filtered_words]\n",
        "    return \" \".join(lemmatized)\n",
        "\n",
        "df['lem_questions'] = [lemmatize(question) for question in df['clean_questions']]\n",
        "df['lem_questions'][test_id]\n"
      ],
      "execution_count": 47,
      "outputs": [
        {
          "output_type": "execute_result",
          "data": {
            "application/vnd.google.colaboratory.intrinsic+json": {
              "type": "string"
            },
            "text/plain": [
              "'what are the company which organize shark feeding event for scuba diver'"
            ]
          },
          "metadata": {},
          "execution_count": 47
        }
      ]
    },
    {
      "cell_type": "code",
      "metadata": {
        "id": "rFNgIZrB6sPz"
      },
      "source": [
        ""
      ],
      "execution_count": null,
      "outputs": []
    },
    {
      "cell_type": "code",
      "metadata": {
        "id": "dvvkMx8-vE2g"
      },
      "source": [
        "#POS tags as features"
      ],
      "execution_count": 48,
      "outputs": []
    },
    {
      "cell_type": "code",
      "metadata": {
        "colab": {
          "base_uri": "https://localhost:8080/"
        },
        "id": "QsUrBhkUvsK1",
        "outputId": "8a487e78-8103-4415-8ae6-d6cab8b50ce7"
      },
      "source": [
        "from nltk import pos_tag\n",
        "def pos_tagging(x):\n",
        "    words = nltk.word_tokenize(x)\n",
        "    lst = [ r[1] for r in pos_tag(words)] \n",
        "    return ' '.join(lst)\n",
        "\n",
        "df['pos_questions'] = [pos_tagging(question) for question in df['questions']]\n",
        "print(df['pos_questions'][1])\n",
        "print(df['questions'][1])"
      ],
      "execution_count": 54,
      "outputs": [
        {
          "output_type": "stream",
          "text": [
            "WP VBP DT NNS WDT VBP NN NN NNS IN NN NNS .\n",
            "What are the companies which organize shark feeding events for scuba divers?\n"
          ],
          "name": "stdout"
        }
      ]
    },
    {
      "cell_type": "code",
      "metadata": {
        "id": "Vgf75tdJvwTF"
      },
      "source": [
        "#Bigram as Fearutes"
      ],
      "execution_count": 55,
      "outputs": []
    },
    {
      "cell_type": "code",
      "metadata": {
        "colab": {
          "base_uri": "https://localhost:8080/"
        },
        "id": "Co9BA5uDwgq2",
        "outputId": "d180477c-ac7a-4b24-cd23-0e05c39f5a11"
      },
      "source": [
        "\n",
        "def bigram(x):\n",
        "    new_words = \"\"\n",
        "    pre_word = None\n",
        "    for word in x.strip().split(' '):\n",
        "        \n",
        "        if pre_word is not None:\n",
        "            new_words += \"{}{} \".format(pre_word, word)\n",
        "        pre_word = word\n",
        "    return new_words[:-1]\n",
        "\n",
        "# print(bigram(\"what are the company which organize shark feeding event for scuba divers \"))\n",
        "\n",
        "df['questions_bigram'] = [bigram(question) for question in df['questions_stop']]\n",
        "\n",
        "print(df['questions'][1])\n",
        "print(df['questions_bigram'][1])"
      ],
      "execution_count": 57,
      "outputs": [
        {
          "output_type": "stream",
          "text": [
            "What are the companies which organize shark feeding events for scuba divers?\n",
            "Whatcompanies companiesorganize organizeshark sharkfeeding feedingevents eventsscuba scubadivers\n"
          ],
          "name": "stdout"
        }
      ]
    },
    {
      "cell_type": "code",
      "metadata": {
        "id": "FNDE41GCwpkh"
      },
      "source": [
        ""
      ],
      "execution_count": null,
      "outputs": []
    },
    {
      "cell_type": "markdown",
      "metadata": {
        "id": "OLZtppzU28Ic"
      },
      "source": [
        "Name Entity as Feature"
      ]
    },
    {
      "cell_type": "code",
      "metadata": {
        "colab": {
          "base_uri": "https://localhost:8080/"
        },
        "id": "af1P5oZK2_ns",
        "outputId": "b2841bda-e099-4faa-9843-ebda6c408a2b"
      },
      "source": [
        "from nltk import ne_chunk, pos_tag, word_tokenize\n",
        "from nltk.tree import Tree\n",
        "\n",
        "def get_continuous_chunks(text):\n",
        "    chunked = ne_chunk(pos_tag(word_tokenize(text)))\n",
        "    prev = None\n",
        "    continuous_chunk = []\n",
        "    current_chunk = []\n",
        "\n",
        "    for i in chunked:\n",
        "        if type(i) == Tree:\n",
        "            current_chunk.append(\" \".join([token for token, pos in i.leaves()]))\n",
        "        elif current_chunk:\n",
        "            named_entity = \" \".join(current_chunk)\n",
        "            if named_entity not in continuous_chunk:\n",
        "                continuous_chunk.append(named_entity)\n",
        "                current_chunk = []\n",
        "        else:\n",
        "            continue\n",
        "\n",
        "    if continuous_chunk:\n",
        "        named_entity = \" \".join(current_chunk)\n",
        "        if named_entity not in continuous_chunk:\n",
        "            continuous_chunk.append(named_entity)\n",
        "    \n",
        "    def remove_null(x):\n",
        "        if '' in x:\n",
        "            x.remove('')\n",
        "        return x\n",
        "\n",
        "    lst = remove_null(continuous_chunk)\n",
        "    return ' '.join(lst)\n",
        "\n",
        "txt = \"Barack Obama is a great person.\" \n",
        "print (get_continuous_chunks(txt))\n",
        "\n",
        "\n",
        "\n",
        "df['ne_questions'] = [get_continuous_chunks(question) for question in df['questions']]\n",
        "print(df['ne_questions'][1])"
      ],
      "execution_count": 79,
      "outputs": [
        {
          "output_type": "stream",
          "text": [
            "Barack Obama\n",
            "\n"
          ],
          "name": "stdout"
        }
      ]
    },
    {
      "cell_type": "code",
      "metadata": {
        "id": "YNizCu5v5ZcB"
      },
      "source": [
        "#Head Word as Feature"
      ],
      "execution_count": 83,
      "outputs": []
    },
    {
      "cell_type": "code",
      "metadata": {
        "id": "BukxLoYY6DRt"
      },
      "source": [
        "# Head word tokenizer\n",
        "import spacy\n",
        "nlp = spacy.load(\"en_core_web_sm\")\n",
        "def head_word_tokenizer(text):\n",
        "    head_words = []\n",
        "    for token in nlp(text):\n",
        "        if token.dep_ == \"nsubj\" or token.dep_ == \"nsubjpass\":\n",
        "            head_words.append(token.text)\n",
        "#             head_words.append(token.head.text)\n",
        "    return head_words"
      ],
      "execution_count": 85,
      "outputs": []
    },
    {
      "cell_type": "code",
      "metadata": {
        "id": "x9oBEwLT5qMQ"
      },
      "source": [
        "from sklearn.feature_extraction.text import CountVectorizer\n",
        "from nltk.corpus import stopwords\n",
        "\n",
        "head_words_vectorizer = CountVectorizer(tokenizer = head_word_tokenizer,max_features=100,stop_words=stopwords.words('english'))\n",
        "head_words_vector = head_words_vectorizer.fit_transform(df[\"questions\"].values).toarray()"
      ],
      "execution_count": 86,
      "outputs": []
    },
    {
      "cell_type": "code",
      "metadata": {
        "colab": {
          "base_uri": "https://localhost:8080/"
        },
        "id": "5CHN-83x5qPP",
        "outputId": "5149c64b-bba8-402c-cd9e-2cfc69027d6f"
      },
      "source": [
        "head_words_vector"
      ],
      "execution_count": 117,
      "outputs": [
        {
          "output_type": "execute_result",
          "data": {
            "text/plain": [
              "array([[0, 0, 0, ..., 0, 0, 0],\n",
              "       [0, 0, 0, ..., 0, 0, 0],\n",
              "       [0, 0, 0, ..., 0, 0, 0],\n",
              "       ...,\n",
              "       [0, 0, 0, ..., 0, 0, 0],\n",
              "       [0, 0, 0, ..., 0, 0, 0],\n",
              "       [0, 0, 0, ..., 0, 0, 0]])"
            ]
          },
          "metadata": {},
          "execution_count": 117
        }
      ]
    },
    {
      "cell_type": "code",
      "metadata": {
        "id": "mGN1UIf4xfB-"
      },
      "source": [
        "#Count vecotrizer (Remove stop words and vectorize)"
      ],
      "execution_count": 80,
      "outputs": []
    },
    {
      "cell_type": "code",
      "metadata": {
        "colab": {
          "base_uri": "https://localhost:8080/"
        },
        "id": "xA4lEhCo5ZRb",
        "outputId": "347f444c-923b-488f-dfc8-755cbd1bc03f"
      },
      "source": [
        "from sklearn.feature_extraction.text import CountVectorizer\n",
        "from nltk.corpus import stopwords\n",
        "\n",
        "def get_count_vect(documents):\n",
        "    vectorizer = CountVectorizer(max_features=1500, min_df=5, max_df=0.7)#, stop_words=stopwords.words('english')\n",
        "    X = vectorizer.fit_transform(documents).toarray()\n",
        "    print(X.shape)\n",
        "    return X\n",
        "\n",
        "print(get_count_vect(df['questions']))"
      ],
      "execution_count": 82,
      "outputs": [
        {
          "output_type": "stream",
          "text": [
            "(5000, 1177)\n",
            "[[0 0 0 ... 0 0 0]\n",
            " [0 0 0 ... 0 0 0]\n",
            " [0 0 0 ... 0 0 0]\n",
            " ...\n",
            " [0 0 0 ... 0 0 0]\n",
            " [0 0 0 ... 0 0 0]\n",
            " [0 0 0 ... 0 0 0]]\n"
          ],
          "name": "stdout"
        }
      ]
    },
    {
      "cell_type": "code",
      "metadata": {
        "id": "HLtXvYPy7o37"
      },
      "source": [
        ""
      ],
      "execution_count": null,
      "outputs": []
    },
    {
      "cell_type": "code",
      "metadata": {
        "id": "pvQzBwNz7o7p"
      },
      "source": [
        ""
      ],
      "execution_count": null,
      "outputs": []
    },
    {
      "cell_type": "code",
      "metadata": {
        "id": "FAGBZuw07pGo"
      },
      "source": [
        ""
      ],
      "execution_count": null,
      "outputs": []
    },
    {
      "cell_type": "code",
      "metadata": {
        "id": "E7TNTxTR7pRn"
      },
      "source": [
        ""
      ],
      "execution_count": null,
      "outputs": []
    },
    {
      "cell_type": "markdown",
      "metadata": {
        "id": "wV7FfyRExZUk"
      },
      "source": [
        "**Model Details**"
      ]
    },
    {
      "cell_type": "markdown",
      "metadata": {
        "id": "wk1GJeUlxhSF"
      },
      "source": [
        "Model Metrics\n"
      ]
    },
    {
      "cell_type": "code",
      "metadata": {
        "id": "D5v7olk0xmYw"
      },
      "source": [
        "from sklearn.metrics import precision_score\n",
        "from sklearn.metrics import recall_score\n",
        "from sklearn.metrics import f1_score\n",
        "from sklearn.metrics import accuracy_score\n",
        "from sklearn.metrics import confusion_matrix\n",
        "\n",
        "\n",
        "def PRC_matrics(y_test, prediction):\n",
        "    # calculate prediction\n",
        "    precision = precision_score(y_test, prediction, labels=[1,2], average='micro')*100\n",
        "    print('Precision: %.3f' % precision)\n",
        "\n",
        "    # calculate recall\n",
        "    recall = recall_score(y_test, prediction, labels=[1,2], average='micro')*100\n",
        "    print('Recall: %.3f' % recall)\n",
        "    \n",
        "    # calculate score\n",
        "#     score = f1_score(y_test, prediction, average='micro')\n",
        "    f1_score = 2 * (precision * recall) / (precision + recall)\n",
        "    print('F-Measure: %.3f' % f1_score)\n",
        "    \n",
        "    \n",
        "    acc = accuracy_score(y_test, prediction)*100\n",
        "#     tn, fp, fn, tp = confusion_matrix([0, 1, 0, 1], [1, 1, 1, 0]).ravel()\n",
        "#     acc2 = (tn + tp)*100/(tn + fp + fn + tp)\n",
        "    print('Accuracy score: %.3f' % acc)\n",
        "    \n",
        "    \n",
        "    cm = confusion_matrix(y_test, prediction)\n",
        "    print(\"\\nConfustion matrix: \\n{}\".format(cm))\n",
        "    \n",
        "    return precision, recall, f1_score, acc"
      ],
      "execution_count": 58,
      "outputs": []
    },
    {
      "cell_type": "code",
      "metadata": {
        "id": "VCL-paZExnJO"
      },
      "source": [
        "#Geeting Y values \n",
        "\n",
        "def get_encoded_y(feature_set='Label'):\n",
        "    le = LabelEncoder()\n",
        "    y = le.fit_transform(df[feature_set])\n",
        "    return y"
      ],
      "execution_count": 63,
      "outputs": []
    },
    {
      "cell_type": "code",
      "metadata": {
        "id": "aYAu5InIxuLL"
      },
      "source": [
        ""
      ],
      "execution_count": null,
      "outputs": []
    },
    {
      "cell_type": "markdown",
      "metadata": {
        "id": "TI6NAXrJxz9t"
      },
      "source": [
        "SVM model details"
      ]
    },
    {
      "cell_type": "code",
      "metadata": {
        "id": "yTWuEE0ox2tf"
      },
      "source": [
        "from sklearn.model_selection import KFold\n",
        "from sklearn.model_selection import cross_val_score\n",
        "\n",
        "from sklearn.svm import SVC\n",
        "from sklearn.metrics import accuracy_score\n",
        "\n",
        "\n",
        "def train_with_svm(XX, y):\n",
        "    best_prediction = None\n",
        "    best_test = None\n",
        "    best_accuracy = 0\n",
        "    cv = KFold(n_splits=10, random_state=1, shuffle=True)\n",
        "    fold = 0\n",
        "    accuracies = []\n",
        "    for train_index, test_index in cv.split(XX):\n",
        "        fold += 1\n",
        "        X_train, X_test = XX[train_index], XX[test_index]\n",
        "        y_train, y_test = y[train_index], y[test_index]\n",
        "\n",
        "        SVM = SVC(C=1.0, kernel='linear', degree=3, gamma='auto')\n",
        "        SVM.fit(X_train,y_train)\n",
        "        predictions_SVM1 = SVM.predict(X_test)\n",
        "        acc = accuracy_score(predictions_SVM1, y_test)*100\n",
        "        if best_accuracy < acc:\n",
        "            best_accuracy = acc\n",
        "            best_prediction = predictions_SVM1\n",
        "            best_test = y_test\n",
        "            best_model = SVM\n",
        "        accuracies.append(acc)\n",
        "        print(\"Fold - {} - {} - {:.2f}\".format(fold, \"SVM Accuracy Score -> \",acc))\n",
        "\n",
        "    print(\"Mean Accuracy {:.2f} \\nStd Accuracy {:.2f}\\n\\n\".format(np.mean(accuracies), np.std(accuracies)))\n",
        "    \n",
        "    print(\"Best accuracy : {}\".format(best_accuracy))\n",
        "    PRC_matrics(best_test, best_prediction)"
      ],
      "execution_count": 60,
      "outputs": []
    },
    {
      "cell_type": "code",
      "metadata": {
        "id": "Hc1xIzjXx3So"
      },
      "source": [
        ""
      ],
      "execution_count": null,
      "outputs": []
    },
    {
      "cell_type": "markdown",
      "metadata": {
        "id": "99e-bx6X0Ra9"
      },
      "source": [
        "Task 1 - A traditional ML classifier s.a. SVM or Logistic Regression with at least 5 of the features mentioned in the paper."
      ]
    },
    {
      "cell_type": "code",
      "metadata": {
        "colab": {
          "base_uri": "https://localhost:8080/"
        },
        "id": "gu5kbAuf0Vuo",
        "outputId": "7d39006b-4b46-488b-dd82-39adceed8a5e"
      },
      "source": [
        "\n",
        "from sklearn.feature_extraction.text import TfidfVectorizer\n",
        "from sklearn.preprocessing import LabelEncoder\n",
        "\n",
        "from scipy.sparse import coo_matrix, csr_matrix, hstack\n",
        "\n",
        "\n",
        "y = get_encoded_y('Label')\n",
        "\n",
        "X_lem = df['lem_questions']\n",
        "tfidf_lem = TfidfVectorizer(max_features=5000)\n",
        "tfidf_lem.fit(X_lem)\n",
        "\n",
        "X_pos = df['pos_questions']\n",
        "\n",
        "X_bigram = df['questions_bigram']\n",
        "\n",
        "X_ne = df['ne_questions']\n",
        "\n",
        "XX = csr_matrix(hstack([tfidf_lem.transform(X_lem) ,get_count_vect(X_pos),get_count_vect(X_ne), get_count_vect(X_bigram),head_words_vector]))\n",
        "XX.shape"
      ],
      "execution_count": 93,
      "outputs": [
        {
          "output_type": "stream",
          "text": [
            "(5000, 27)\n",
            "(5000, 326)\n",
            "(5000, 527)\n"
          ],
          "name": "stdout"
        },
        {
          "output_type": "execute_result",
          "data": {
            "text/plain": [
              "(5000, 5980)"
            ]
          },
          "metadata": {},
          "execution_count": 93
        }
      ]
    },
    {
      "cell_type": "code",
      "metadata": {
        "id": "4oSoMQEP-HBd"
      },
      "source": [
        ""
      ],
      "execution_count": null,
      "outputs": []
    },
    {
      "cell_type": "markdown",
      "metadata": {
        "id": "O6SpknXu_GKK"
      },
      "source": [
        "Feature Selection"
      ]
    },
    {
      "cell_type": "code",
      "metadata": {
        "colab": {
          "base_uri": "https://localhost:8080/"
        },
        "id": "j2DnyJ6t_QeA",
        "outputId": "56ffb800-037d-4479-a7f1-22cfc735312c"
      },
      "source": [
        "#Select K best features\n",
        "\n",
        "from sklearn.feature_selection import SelectKBest, chi2\n",
        "\n",
        "X_new = SelectKBest(chi2, k=3000).fit_transform(XX, y)\n",
        "X_new.shape"
      ],
      "execution_count": 95,
      "outputs": [
        {
          "output_type": "execute_result",
          "data": {
            "text/plain": [
              "(5000, 3000)"
            ]
          },
          "metadata": {},
          "execution_count": 95
        }
      ]
    },
    {
      "cell_type": "code",
      "metadata": {
        "colab": {
          "base_uri": "https://localhost:8080/"
        },
        "id": "MtwNl32f_UNb",
        "outputId": "0a6ae712-50f5-4709-dc88-ca5c3dc4a17e"
      },
      "source": [
        "#Remove features with low variance with target \n",
        "\n",
        "from sklearn.feature_selection import VarianceThreshold\n",
        "X_new_var = VarianceThreshold(threshold=(0.01)).fit_transform(XX)\n",
        "X_new_var.shape\n",
        "# selector.fit_transform(features)"
      ],
      "execution_count": 97,
      "outputs": [
        {
          "output_type": "execute_result",
          "data": {
            "text/plain": [
              "(5000, 53)"
            ]
          },
          "metadata": {},
          "execution_count": 97
        }
      ]
    },
    {
      "cell_type": "code",
      "metadata": {
        "id": "9gr50o54_sT3"
      },
      "source": [
        ""
      ],
      "execution_count": null,
      "outputs": []
    },
    {
      "cell_type": "markdown",
      "metadata": {
        "id": "ftCFAo_r__1A"
      },
      "source": [
        "Training the model with SVM - Using all features"
      ]
    },
    {
      "cell_type": "code",
      "metadata": {
        "colab": {
          "base_uri": "https://localhost:8080/"
        },
        "id": "Aoco3kKvAHDm",
        "outputId": "1a2e5ae5-d553-4ab6-da55-1cc61e5f805d"
      },
      "source": [
        "train_with_svm(XX, get_encoded_y('Label'))"
      ],
      "execution_count": 99,
      "outputs": [
        {
          "output_type": "stream",
          "text": [
            "Fold - 1 - SVM Accuracy Score ->  - 75.60\n",
            "Fold - 2 - SVM Accuracy Score ->  - 79.60\n",
            "Fold - 3 - SVM Accuracy Score ->  - 78.00\n",
            "Fold - 4 - SVM Accuracy Score ->  - 77.80\n",
            "Fold - 5 - SVM Accuracy Score ->  - 79.40\n",
            "Fold - 6 - SVM Accuracy Score ->  - 80.60\n",
            "Fold - 7 - SVM Accuracy Score ->  - 80.00\n",
            "Fold - 8 - SVM Accuracy Score ->  - 77.80\n",
            "Fold - 9 - SVM Accuracy Score ->  - 78.60\n",
            "Fold - 10 - SVM Accuracy Score ->  - 75.40\n",
            "Mean Accuracy 78.28 \n",
            "Std Accuracy 1.66\n",
            "\n",
            "\n",
            "Best accuracy : 80.60000000000001\n",
            "Precision: 75.949\n",
            "Recall: 82.192\n",
            "F-Measure: 78.947\n",
            "Accuracy score: 80.600\n",
            "\n",
            "Confustion matrix: \n",
            "[[ 52   0   0   2   1   4   0]\n",
            " [  1   8   0   0   0   5   0]\n",
            " [  4   0  43   0   1   2   0]\n",
            " [  5   0   3 112  10  18   0]\n",
            " [  1   1   1   8  95   3   1]\n",
            " [  5   2   2  14   2  76   0]\n",
            " [  0   0   0   1   0   0  17]]\n"
          ],
          "name": "stdout"
        }
      ]
    },
    {
      "cell_type": "code",
      "metadata": {
        "id": "BgpeRZ-rAKEd"
      },
      "source": [
        ""
      ],
      "execution_count": null,
      "outputs": []
    },
    {
      "cell_type": "code",
      "metadata": {
        "id": "rhmMe_jxGUFF"
      },
      "source": [
        ""
      ],
      "execution_count": null,
      "outputs": []
    },
    {
      "cell_type": "code",
      "metadata": {
        "id": "cIw0MKLcGUIt"
      },
      "source": [
        ""
      ],
      "execution_count": null,
      "outputs": []
    },
    {
      "cell_type": "code",
      "metadata": {
        "id": "8S1y2qiqGUPJ"
      },
      "source": [
        ""
      ],
      "execution_count": null,
      "outputs": []
    },
    {
      "cell_type": "markdown",
      "metadata": {
        "id": "TAIAP9Z0GVEB"
      },
      "source": [
        "## **Word Embeddings as Features**"
      ]
    },
    {
      "cell_type": "markdown",
      "metadata": {
        "id": "qMYYjQmdGvMC"
      },
      "source": [
        "Gensim Doc2Vec - Using Sentence Vectors"
      ]
    },
    {
      "cell_type": "code",
      "metadata": {
        "id": "wj_q6z-HGZ9z"
      },
      "source": [
        "from gensim.models.doc2vec import Doc2Vec, TaggedDocument\n",
        "#tokenize and tag the card text\n",
        "\n",
        "card_docs = [TaggedDocument(doc.split(' '), [i]) \n",
        "             for i, doc in enumerate(df.clean_questions)]\n",
        "\n",
        "#display the tagged docs\n"
      ],
      "execution_count": 105,
      "outputs": []
    },
    {
      "cell_type": "code",
      "metadata": {
        "id": "3mqygoumGwQe"
      },
      "source": [
        "#instantiate model\n",
        "model = Doc2Vec(vector_size=64, window=2, min_count=1, workers=8, epochs = 40)\n",
        "#build vocab\n",
        "model.build_vocab(card_docs)\n",
        "#train model\n",
        "model.train(card_docs, total_examples=model.corpus_count\n",
        "            , epochs=model.epochs)"
      ],
      "execution_count": 107,
      "outputs": []
    },
    {
      "cell_type": "code",
      "metadata": {
        "id": "4FUAs9OYKWnn"
      },
      "source": [
        "#generate vectors\n",
        "card2vec = [model.infer_vector((df['clean_questions'][i].split(' '))) \n",
        "            for i in range(0,len(df['clean_questions']))]\n"
      ],
      "execution_count": 110,
      "outputs": []
    },
    {
      "cell_type": "code",
      "metadata": {
        "colab": {
          "base_uri": "https://localhost:8080/",
          "height": 160
        },
        "id": "yn2wvK9wKvIq",
        "outputId": "9e84ec27-585c-4e11-fa95-2f9390c66448"
      },
      "source": [
        "import numpy as np\n",
        "#Create a list of lists\n",
        "dtv= np.array(card2vec)\n",
        "#set list to dataframe column\n"
      ],
      "execution_count": 128,
      "outputs": [
        {
          "output_type": "execute_result",
          "data": {
            "text/html": [
              "<div>\n",
              "<style scoped>\n",
              "    .dataframe tbody tr th:only-of-type {\n",
              "        vertical-align: middle;\n",
              "    }\n",
              "\n",
              "    .dataframe tbody tr th {\n",
              "        vertical-align: top;\n",
              "    }\n",
              "\n",
              "    .dataframe thead th {\n",
              "        text-align: right;\n",
              "    }\n",
              "</style>\n",
              "<table border=\"1\" class=\"dataframe\">\n",
              "  <thead>\n",
              "    <tr style=\"text-align: right;\">\n",
              "      <th></th>\n",
              "      <th>questions</th>\n",
              "      <th>Label</th>\n",
              "      <th>Type</th>\n",
              "      <th>clean_questions</th>\n",
              "      <th>questions_stop</th>\n",
              "      <th>lem_questions</th>\n",
              "      <th>pos_questions</th>\n",
              "      <th>questions_bigram</th>\n",
              "      <th>ne_questions</th>\n",
              "      <th>card2vec</th>\n",
              "    </tr>\n",
              "  </thead>\n",
              "  <tbody>\n",
              "    <tr>\n",
              "      <th>0</th>\n",
              "      <td>What are the special things we (husband and me...</td>\n",
              "      <td>TTD</td>\n",
              "      <td>TTDSIG</td>\n",
              "      <td>what are the special things we  husband and me...</td>\n",
              "      <td>What special things  husband  5 day stay Cape ...</td>\n",
              "      <td>what are the special thing we husband and me c...</td>\n",
              "      <td>WP VBP DT JJ NNS PRP ( NN CC PRP ) MD VB IN DT...</td>\n",
              "      <td>Whatspecial specialthings things husband husba...</td>\n",
              "      <td>Cape Town</td>\n",
              "      <td>0.140274</td>\n",
              "    </tr>\n",
              "    <tr>\n",
              "      <th>1</th>\n",
              "      <td>What are the companies which organize shark fe...</td>\n",
              "      <td>TTD</td>\n",
              "      <td>TTDOTH</td>\n",
              "      <td>what are the companies which organize shark fe...</td>\n",
              "      <td>What companies organize shark feeding events s...</td>\n",
              "      <td>what are the company which organize shark feed...</td>\n",
              "      <td>WP VBP DT NNS WDT VBP NN NN NNS IN NN NNS .</td>\n",
              "      <td>Whatcompanies companiesorganize organizeshark ...</td>\n",
              "      <td></td>\n",
              "      <td>0.001748</td>\n",
              "    </tr>\n",
              "  </tbody>\n",
              "</table>\n",
              "</div>"
            ],
            "text/plain": [
              "                                           questions  ...  card2vec\n",
              "0  What are the special things we (husband and me...  ...  0.140274\n",
              "1  What are the companies which organize shark fe...  ...  0.001748\n",
              "\n",
              "[2 rows x 10 columns]"
            ]
          },
          "metadata": {},
          "execution_count": 128
        }
      ]
    },
    {
      "cell_type": "code",
      "metadata": {
        "colab": {
          "base_uri": "https://localhost:8080/"
        },
        "id": "KUTF-OVfLmIo",
        "outputId": "87dad101-36c2-4732-c06a-35990d1e9e6f"
      },
      "source": [
        "train_with_svm(dtv, get_encoded_y('Label'))"
      ],
      "execution_count": 129,
      "outputs": [
        {
          "output_type": "stream",
          "text": [
            "Fold - 1 - SVM Accuracy Score ->  - 56.40\n",
            "Fold - 2 - SVM Accuracy Score ->  - 55.60\n",
            "Fold - 3 - SVM Accuracy Score ->  - 57.20\n",
            "Fold - 4 - SVM Accuracy Score ->  - 57.00\n",
            "Fold - 5 - SVM Accuracy Score ->  - 57.60\n",
            "Fold - 6 - SVM Accuracy Score ->  - 59.60\n",
            "Fold - 7 - SVM Accuracy Score ->  - 56.60\n",
            "Fold - 8 - SVM Accuracy Score ->  - 55.00\n",
            "Fold - 9 - SVM Accuracy Score ->  - 56.40\n",
            "Fold - 10 - SVM Accuracy Score ->  - 57.40\n",
            "Mean Accuracy 56.88 \n",
            "Std Accuracy 1.18\n",
            "\n",
            "\n",
            "Best accuracy : 59.599999999999994\n",
            "Precision: 52.113\n",
            "Recall: 50.685\n",
            "F-Measure: 51.389\n",
            "Accuracy score: 59.600\n",
            "\n",
            "Confustion matrix: \n",
            "[[37  0  1  5  3 13  0]\n",
            " [ 2  0  4  2  0  6  0]\n",
            " [ 8  1 21  2  0 18  0]\n",
            " [ 8  0  6 85 24 25  0]\n",
            " [ 6  0  0 15 76 10  3]\n",
            " [ 7  2  4 14  7 66  1]\n",
            " [ 0  0  0  1  0  4 13]]\n"
          ],
          "name": "stdout"
        }
      ]
    },
    {
      "cell_type": "code",
      "metadata": {
        "id": "g8BaJs0lNQzw"
      },
      "source": [
        ""
      ],
      "execution_count": null,
      "outputs": []
    },
    {
      "cell_type": "markdown",
      "metadata": {
        "id": "Pyz1nkhxVw5x"
      },
      "source": [
        "# **LSTM classification**\n",
        "\n",
        "\n"
      ]
    },
    {
      "cell_type": "code",
      "metadata": {
        "id": "YYB_4RIdV4HT"
      },
      "source": [
        "# The maximum number of words to be used. (most frequent)\n",
        "MAX_NB_WORDS = 5000\n",
        "# Max number of words in each complaint.\n",
        "MAX_SEQUENCE_LENGTH = 25\n",
        "# This is fixed.\n",
        "EMBEDDING_DIM = 160\n",
        "epochs = 10\n",
        "batch_size = 64"
      ],
      "execution_count": 130,
      "outputs": []
    },
    {
      "cell_type": "code",
      "metadata": {
        "colab": {
          "base_uri": "https://localhost:8080/"
        },
        "id": "c9zFa4MhV7Yp",
        "outputId": "4a1987da-5302-4613-a08d-87d23b54500a"
      },
      "source": [
        "from tensorflow.keras.preprocessing.text import Tokenizer\n",
        "\n",
        "# tokenizer = Tokenizer(num_words=MAX_NB_WORDS, filters='!\"#$%&()*+,-./:;<=>?@[\\]^_`{|}~', lower=True)\n",
        "tokenizer = Tokenizer(num_words=MAX_NB_WORDS, split=' ')\n",
        "tokenizer.fit_on_texts(df['questions'].values)\n",
        "word_index = tokenizer.word_index\n",
        "print('Found %s unique tokens.' % len(word_index))"
      ],
      "execution_count": 131,
      "outputs": [
        {
          "output_type": "stream",
          "text": [
            "Found 5582 unique tokens.\n"
          ],
          "name": "stdout"
        }
      ]
    },
    {
      "cell_type": "code",
      "metadata": {
        "colab": {
          "base_uri": "https://localhost:8080/"
        },
        "id": "j4t0ArArWBrd",
        "outputId": "7e0f6d7b-848b-4742-ab81-05cb33fa3e5c"
      },
      "source": [
        "from tensorflow.keras.preprocessing.sequence import pad_sequences\n",
        "\n",
        "X = tokenizer.texts_to_sequences(df['questions'].values)\n",
        "print(X[0])\n",
        "X_lstm = pad_sequences(X, maxlen=MAX_SEQUENCE_LENGTH)\n",
        "print('Shape of data tensor:', X_lstm.shape)\n",
        "\n",
        "\n",
        "def get_dummi_y(_type='a'):\n",
        "    y = pd.get_dummies(df[_type]).values\n",
        "    print('Shape of label tensor:', y.shape)\n",
        "    return y"
      ],
      "execution_count": 134,
      "outputs": [
        {
          "output_type": "stream",
          "text": [
            "[4, 7, 2, 321, 105, 31, 1837, 17, 68, 9, 20, 71, 6, 194, 48, 32, 22, 376, 111]\n",
            "Shape of data tensor: (5000, 25)\n"
          ],
          "name": "stdout"
        }
      ]
    },
    {
      "cell_type": "code",
      "metadata": {
        "colab": {
          "base_uri": "https://localhost:8080/"
        },
        "id": "cNZmtvEaWHU4",
        "outputId": "ba6862b7-8353-49fe-fd36-83248e53af7c"
      },
      "source": [
        "from tensorflow.keras.layers import Embedding, SpatialDropout1D, LSTM, Dense\n",
        "from tensorflow.keras import Sequential\n",
        "\n",
        "def get_lstm_model(X, y, verbose=0):\n",
        "    model = Sequential()\n",
        "    model.add(Embedding(MAX_NB_WORDS, EMBEDDING_DIM, input_length=X.shape[1]))\n",
        "    model.add(SpatialDropout1D(0.2))\n",
        "    model.add(LSTM(196, dropout=0.2, recurrent_dropout=0.2))\n",
        "    # model.add(LSTM(100, dropout=0.2, recurrent_dropout=0.2))\n",
        "    model.add(Dense(y.shape[1], activation='softmax'))\n",
        "    model.compile(loss='categorical_crossentropy', optimizer='adam', metrics=['accuracy'])\n",
        "\n",
        "    if verbose == 1:\n",
        "        print(model.summary())\n",
        "    return model\n",
        "\n",
        "get_lstm_model(X_lstm, get_dummi_y('Type'), 1)"
      ],
      "execution_count": 136,
      "outputs": [
        {
          "output_type": "stream",
          "text": [
            "Shape of label tensor: (5000, 79)\n",
            "Model: \"sequential\"\n",
            "_________________________________________________________________\n",
            "Layer (type)                 Output Shape              Param #   \n",
            "=================================================================\n",
            "embedding (Embedding)        (None, 25, 160)           800000    \n",
            "_________________________________________________________________\n",
            "spatial_dropout1d (SpatialDr (None, 25, 160)           0         \n",
            "_________________________________________________________________\n",
            "lstm (LSTM)                  (None, 196)               279888    \n",
            "_________________________________________________________________\n",
            "dense (Dense)                (None, 79)                15563     \n",
            "=================================================================\n",
            "Total params: 1,095,451\n",
            "Trainable params: 1,095,451\n",
            "Non-trainable params: 0\n",
            "_________________________________________________________________\n",
            "None\n"
          ],
          "name": "stdout"
        },
        {
          "output_type": "execute_result",
          "data": {
            "text/plain": [
              "<keras.engine.sequential.Sequential at 0x7ff5eac79490>"
            ]
          },
          "metadata": {},
          "execution_count": 136
        }
      ]
    },
    {
      "cell_type": "code",
      "metadata": {
        "id": "dcK85fGQWO9F"
      },
      "source": [
        "\n",
        "from tensorflow.keras.callbacks import EarlyStopping\n",
        "from sklearn.model_selection import KFold\n",
        "\n",
        "epochs = 10\n",
        "batch_size = 64\n",
        "\n",
        "def train_LSTM(X, y):\n",
        "    best_prediction = None\n",
        "    best_test = None\n",
        "    best_accuracy = 0\n",
        "\n",
        "    cv = KFold(n_splits=10, random_state=1, shuffle=True)\n",
        "    fold = 0\n",
        "    accuracies = []\n",
        "    for train_index, test_index in cv.split(X):\n",
        "        fold += 1\n",
        "        print(\"FOLD {}\".format(fold))\n",
        "        X_train, X_test = X[train_index], X[test_index]\n",
        "        y_train, y_test = y[train_index], y[test_index]\n",
        "\n",
        "        model = get_lstm_model(X, y, 0)\n",
        "\n",
        "        hist = model.fit(X_train, y_train, verbose=0, epochs=epochs, batch_size=batch_size,validation_split=0.1,callbacks=[EarlyStopping(monitor='val_loss', patience=3, min_delta=0.0001)])\n",
        "        predictions = model.predict(X_test)\n",
        "        for item in hist.history.items():\n",
        "            mean_val = np.mean(item[1])\n",
        "            if item[0] == 'accuracy':\n",
        "                acc = mean_val\n",
        "            print(\"Mean {} : {}\".format(item[0], mean_val))\n",
        "        \n",
        "        \n",
        "        print(\"\\n\")\n",
        "        if best_accuracy < acc:\n",
        "            best_accuracy = acc\n",
        "            best_prediction = predictions\n",
        "            best_test = y_test\n",
        "            \n",
        "    fine_pred = [np.argmax(p) for p in best_prediction]\n",
        "    fine_gt = [np.argmax(p) for p in best_test]\n",
        "    PRC_matrics(fine_pred, fine_gt)"
      ],
      "execution_count": 138,
      "outputs": []
    },
    {
      "cell_type": "code",
      "metadata": {
        "colab": {
          "base_uri": "https://localhost:8080/"
        },
        "id": "7rvHIeWPW4Gb",
        "outputId": "1cfd3808-8b6f-45f5-bc8a-7487f9ef1cd2"
      },
      "source": [
        "\n",
        "train_LSTM(X_lstm, get_dummi_y('Label'))"
      ],
      "execution_count": 139,
      "outputs": [
        {
          "output_type": "stream",
          "text": [
            "Shape of label tensor: (5000, 10)\n",
            "FOLD 1\n",
            "Mean loss : 0.49615826995836365\n",
            "Mean accuracy : 0.823539094792472\n",
            "Mean val_loss : 1.0179834100935194\n",
            "Mean val_accuracy : 0.6612345708741082\n",
            "\n",
            "\n",
            "FOLD 2\n",
            "Mean loss : 0.573581064119935\n",
            "Mean accuracy : 0.7948148250579834\n",
            "Mean val_loss : 1.0652254968881607\n",
            "Mean val_accuracy : 0.6450000070035458\n",
            "\n",
            "\n",
            "FOLD 3\n",
            "Mean loss : 0.544838204048574\n",
            "Mean accuracy : 0.8068209849298\n",
            "Mean val_loss : 0.9779676422476768\n",
            "Mean val_accuracy : 0.6666666623204947\n",
            "\n",
            "\n",
            "FOLD 4\n",
            "Mean loss : 0.45404748655855653\n",
            "Mean accuracy : 0.8368395060300827\n",
            "Mean val_loss : 1.1208764433860778\n",
            "Mean val_accuracy : 0.64266666918993\n",
            "\n",
            "\n",
            "FOLD 5\n",
            "Mean loss : 0.5250205309130251\n",
            "Mean accuracy : 0.8148765452206135\n",
            "Mean val_loss : 1.003645971417427\n",
            "Mean val_accuracy : 0.672500004991889\n",
            "\n",
            "\n",
            "FOLD 6\n",
            "Mean loss : 0.6315906611936433\n",
            "Mean accuracy : 0.7734038744653974\n",
            "Mean val_loss : 1.0543848190988814\n",
            "Mean val_accuracy : 0.646349202309336\n",
            "\n",
            "\n",
            "FOLD 7\n",
            "Mean loss : 0.4952920248938931\n",
            "Mean accuracy : 0.82463648253017\n",
            "Mean val_loss : 1.0261106093724568\n",
            "Mean val_accuracy : 0.6632098688019646\n",
            "\n",
            "\n",
            "FOLD 8\n",
            "Mean loss : 0.6408770605921745\n",
            "Mean accuracy : 0.7723456834043775\n",
            "Mean val_loss : 1.0922323720795768\n",
            "Mean val_accuracy : 0.6238095334597996\n",
            "\n",
            "\n",
            "FOLD 9\n",
            "Mean loss : 0.568515857681632\n",
            "Mean accuracy : 0.7940740697085857\n",
            "Mean val_loss : 1.1708774790167809\n",
            "Mean val_accuracy : 0.607499998062849\n",
            "\n",
            "\n",
            "FOLD 10\n",
            "Mean loss : 0.6268779582210949\n",
            "Mean accuracy : 0.7761552078383309\n",
            "Mean val_loss : 1.0159279363495963\n",
            "Mean val_accuracy : 0.6488888774599347\n",
            "\n",
            "\n",
            "Precision: 84.043\n",
            "Recall: 74.528\n",
            "F-Measure: 79.000\n",
            "Accuracy score: 79.800\n",
            "\n",
            "Confustion matrix: \n",
            "[[62  1  4  4  1  4  0]\n",
            " [ 0 17  3  1  0  8  1]\n",
            " [ 2  1 47  0  0  2  0]\n",
            " [ 3  3  2 99 10 11  3]\n",
            " [ 1  0  0 10 86  6  0]\n",
            " [ 2  2  1  9  5 75  0]\n",
            " [ 0  0  0  1  0  0 13]]\n"
          ],
          "name": "stdout"
        }
      ]
    },
    {
      "cell_type": "code",
      "metadata": {
        "id": "7n0I3hCWXZXC"
      },
      "source": [
        ""
      ],
      "execution_count": null,
      "outputs": []
    }
  ]
}